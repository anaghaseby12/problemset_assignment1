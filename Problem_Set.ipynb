{
 "cells": [
  {
   "cell_type": "markdown",
   "id": "eb9cc608",
   "metadata": {},
   "source": [
    "## Problem Set 1"
   ]
  },
  {
   "cell_type": "markdown",
   "id": "aa52c991",
   "metadata": {},
   "source": [
    "## Question 1 : What data type is each of the following (evaluate where necessary)?"
   ]
  },
  {
   "cell_type": "code",
   "execution_count": 1,
   "id": "8e96f691",
   "metadata": {},
   "outputs": [
    {
     "data": {
      "text/plain": [
       "int"
      ]
     },
     "execution_count": 1,
     "metadata": {},
     "output_type": "execute_result"
    }
   ],
   "source": [
    "type(5)"
   ]
  },
  {
   "cell_type": "code",
   "execution_count": 2,
   "id": "746a8a12",
   "metadata": {},
   "outputs": [
    {
     "data": {
      "text/plain": [
       "float"
      ]
     },
     "execution_count": 2,
     "metadata": {},
     "output_type": "execute_result"
    }
   ],
   "source": [
    "type(5.0)"
   ]
  },
  {
   "cell_type": "code",
   "execution_count": 3,
   "id": "72eb2976",
   "metadata": {},
   "outputs": [
    {
     "data": {
      "text/plain": [
       "bool"
      ]
     },
     "execution_count": 3,
     "metadata": {},
     "output_type": "execute_result"
    }
   ],
   "source": [
    "type(5>1)"
   ]
  },
  {
   "cell_type": "code",
   "execution_count": 4,
   "id": "3e2863a9",
   "metadata": {},
   "outputs": [
    {
     "data": {
      "text/plain": [
       "str"
      ]
     },
     "execution_count": 4,
     "metadata": {},
     "output_type": "execute_result"
    }
   ],
   "source": [
    "type('5')"
   ]
  },
  {
   "cell_type": "code",
   "execution_count": 5,
   "id": "c5cc8024",
   "metadata": {},
   "outputs": [
    {
     "data": {
      "text/plain": [
       "int"
      ]
     },
     "execution_count": 5,
     "metadata": {},
     "output_type": "execute_result"
    }
   ],
   "source": [
    "type(5 * 2)"
   ]
  },
  {
   "cell_type": "code",
   "execution_count": 6,
   "id": "a868ff80",
   "metadata": {},
   "outputs": [
    {
     "data": {
      "text/plain": [
       "str"
      ]
     },
     "execution_count": 6,
     "metadata": {},
     "output_type": "execute_result"
    }
   ],
   "source": [
    "type('5' * 2)"
   ]
  },
  {
   "cell_type": "code",
   "execution_count": 7,
   "id": "8d4f5a7a",
   "metadata": {},
   "outputs": [
    {
     "data": {
      "text/plain": [
       "str"
      ]
     },
     "execution_count": 7,
     "metadata": {},
     "output_type": "execute_result"
    }
   ],
   "source": [
    "type('5' + '2')"
   ]
  },
  {
   "cell_type": "code",
   "execution_count": 8,
   "id": "51e1479c",
   "metadata": {},
   "outputs": [
    {
     "data": {
      "text/plain": [
       "float"
      ]
     },
     "execution_count": 8,
     "metadata": {},
     "output_type": "execute_result"
    }
   ],
   "source": [
    "type(5 / 2)"
   ]
  },
  {
   "cell_type": "code",
   "execution_count": 9,
   "id": "992cafc3",
   "metadata": {},
   "outputs": [
    {
     "data": {
      "text/plain": [
       "int"
      ]
     },
     "execution_count": 9,
     "metadata": {},
     "output_type": "execute_result"
    }
   ],
   "source": [
    "type(5 % 2)"
   ]
  },
  {
   "cell_type": "code",
   "execution_count": 10,
   "id": "639513dc",
   "metadata": {},
   "outputs": [
    {
     "data": {
      "text/plain": [
       "set"
      ]
     },
     "execution_count": 10,
     "metadata": {},
     "output_type": "execute_result"
    }
   ],
   "source": [
    "type({5, 2, 1})"
   ]
  },
  {
   "cell_type": "code",
   "execution_count": 11,
   "id": "1fd2687c",
   "metadata": {},
   "outputs": [
    {
     "data": {
      "text/plain": [
       "bool"
      ]
     },
     "execution_count": 11,
     "metadata": {},
     "output_type": "execute_result"
    }
   ],
   "source": [
    "type(5 == 3)"
   ]
  },
  {
   "cell_type": "code",
   "execution_count": 12,
   "id": "c42672fa",
   "metadata": {},
   "outputs": [
    {
     "data": {
      "text/plain": [
       "float"
      ]
     },
     "execution_count": 12,
     "metadata": {},
     "output_type": "execute_result"
    }
   ],
   "source": [
    "pi = 3.14\n",
    "type(pi)"
   ]
  },
  {
   "cell_type": "markdown",
   "id": "ce536386",
   "metadata": {},
   "source": [
    "## Question 2 : Write (and evaluate) python expressions that answer these questions:\n"
   ]
  },
  {
   "cell_type": "markdown",
   "id": "351f4f29",
   "metadata": {},
   "source": [
    "a. How many letters are there in 'Supercalifragilisticexpialidocious'?\n"
   ]
  },
  {
   "cell_type": "code",
   "execution_count": 13,
   "id": "aa3d10dd",
   "metadata": {},
   "outputs": [
    {
     "name": "stdout",
     "output_type": "stream",
     "text": [
      "34\n"
     ]
    }
   ],
   "source": [
    "data =  'Supercalifragilisticexpialidocious'\n",
    "letters = len(data)\n",
    "print(letters)"
   ]
  },
  {
   "cell_type": "markdown",
   "id": "c85faf82",
   "metadata": {},
   "source": [
    "b. Does 'Supercalifragilisticexpialidocious' contain 'ice' as a substring?\n"
   ]
  },
  {
   "cell_type": "code",
   "execution_count": 44,
   "id": "26c0ef72",
   "metadata": {},
   "outputs": [
    {
     "name": "stdout",
     "output_type": "stream",
     "text": [
      "True\n"
     ]
    }
   ],
   "source": [
    "string = 'Supercalifragilisticexpialidocious'\n",
    "sub_string = 'ice'\n",
    "contains_substring = sub_string in string\n",
    "print(contains_substring)"
   ]
  },
  {
   "cell_type": "markdown",
   "id": "e8a87cbf",
   "metadata": {},
   "source": [
    "c. Which of the following words is the longest:\n",
    "Supercalifragilisticexpialidocious, Honorificabilitudinitatibus, or\n",
    "Bababadalgharaghtakamminarronnkonn?"
   ]
  },
  {
   "cell_type": "code",
   "execution_count": 45,
   "id": "1ac9297f",
   "metadata": {},
   "outputs": [
    {
     "name": "stdout",
     "output_type": "stream",
     "text": [
      "Longest word is :  Supercalifragilisticexpialidocious\n"
     ]
    }
   ],
   "source": [
    "word1 = 'Supercalifragilisticexpialidocious'\n",
    "word2 = 'Honorificabilitudinitatibus'\n",
    "word3 =  'Bababadalgharaghtakamminarronnkonn'\n",
    "\n",
    "if word1>word2:\n",
    "        if word1>word3:\n",
    "            print(\"Longest word is : \" ,word1)\n",
    "        elif word1==word2:\n",
    "            print(\"Both the words\",word1,\" and \",word2, \" are equal.\")\n",
    "elif word2>word3:\n",
    "    print(\"The longest word is:\", word2)"
   ]
  },
  {
   "cell_type": "markdown",
   "id": "4813b829",
   "metadata": {},
   "source": [
    "d. Which composer comes first in the dictionary: 'Berlioz', 'Borodin', 'Brian',\n",
    "'Bartok', 'Bellini', 'Buxtehude', 'Bernstein'. Which one comes last?"
   ]
  },
  {
   "cell_type": "code",
   "execution_count": 46,
   "id": "1d56bf29",
   "metadata": {},
   "outputs": [
    {
     "name": "stdout",
     "output_type": "stream",
     "text": [
      "The composer that comes first in the dictionary is Berlioz\n",
      "The composer which comes last in the dictionary is Bernstein\n"
     ]
    }
   ],
   "source": [
    "composer = ['Berlioz', 'Borodin', 'Brian','Bartok', 'Bellini', 'Buxtehude', 'Bernstein']\n",
    "print (\"The composer that comes first in the dictionary is\", composer[0])\n",
    "print(\"The composer which comes last in the dictionary is\",composer[-1])"
   ]
  },
  {
   "cell_type": "markdown",
   "id": "737d98b0",
   "metadata": {},
   "source": [
    "## Question 3\n",
    "## Implement function triangleArea(a,b,c) that takes as input the lengths of the 3\n",
    "## sides of a triangle and returns the area of the triangle. By Heron's formula, the area\n",
    "## of a triangle with side lengths a, b, and c is\n",
    "## s(s - a)(s -b)(s -c)\n",
    "## , where\n",
    "## s = (a+b+c)/2."
   ]
  },
  {
   "cell_type": "code",
   "execution_count": 20,
   "id": "f50ec603",
   "metadata": {},
   "outputs": [],
   "source": [
    "import math\n",
    "def sides(a,b,c):\n",
    "    s = (a+b+c)/2\n",
    "    Area = math.sqrt(s*(s-a)*(s-b)*(s-c))\n",
    "    return Area"
   ]
  },
  {
   "cell_type": "code",
   "execution_count": 21,
   "id": "dc9508b0",
   "metadata": {},
   "outputs": [
    {
     "data": {
      "text/plain": [
       "1.7320508075688772"
      ]
     },
     "execution_count": 21,
     "metadata": {},
     "output_type": "execute_result"
    }
   ],
   "source": [
    "sides(2,2,2)"
   ]
  },
  {
   "cell_type": "markdown",
   "id": "09f588b5",
   "metadata": {},
   "source": [
    "## Question 4\n",
    "## Write a program in python to separate odd and even integers in separate arrays"
   ]
  },
  {
   "cell_type": "code",
   "execution_count": 47,
   "id": "463d2218",
   "metadata": {},
   "outputs": [
    {
     "name": "stdout",
     "output_type": "stream",
     "text": [
      "The even values are:  [42, 56, 32]\n",
      "The odd values are:  [27, 47]\n"
     ]
    }
   ],
   "source": [
    "num = [27,47,42,56,32]\n",
    "\n",
    "even = []\n",
    "odd = []\n",
    "for i in num:\n",
    "    \n",
    "    if i %2 == 0:\n",
    "        even.append(i)\n",
    "    else:\n",
    "        odd.append(i)\n",
    "print(\"The even values are: \", even)\n",
    "print(\"The odd values are: \",odd)\n"
   ]
  },
  {
   "cell_type": "markdown",
   "id": "af4255bd",
   "metadata": {},
   "source": [
    "## Question 5\n"
   ]
  },
  {
   "cell_type": "markdown",
   "id": "f785a218",
   "metadata": {},
   "source": [
    "a. Write a function inside(x,y,x1,y1,x2,y2) that returns True or False\n",
    "depending on whether the point (x,y) lies in the rectangle with lower left\n",
    "corner (x1,y1) and upper right corner (x2,y2)."
   ]
  },
  {
   "cell_type": "code",
   "execution_count": 23,
   "id": "f078bd22",
   "metadata": {},
   "outputs": [],
   "source": [
    "def inside(x,y,x1,y1,x2,y2):\n",
    "    if x >= x1 and x <= x2 and y >= y1 and y <= y2:\n",
    "        return True\n",
    "    else:\n",
    "        return False"
   ]
  },
  {
   "cell_type": "code",
   "execution_count": 24,
   "id": "1f763e34",
   "metadata": {},
   "outputs": [
    {
     "data": {
      "text/plain": [
       "True"
      ]
     },
     "execution_count": 24,
     "metadata": {},
     "output_type": "execute_result"
    }
   ],
   "source": [
    "inside(1,1,0,0,2,3)"
   ]
  },
  {
   "cell_type": "code",
   "execution_count": 25,
   "id": "c46f23c9",
   "metadata": {},
   "outputs": [
    {
     "data": {
      "text/plain": [
       "False"
      ]
     },
     "execution_count": 25,
     "metadata": {},
     "output_type": "execute_result"
    }
   ],
   "source": [
    " inside(-1,-1,0,0,2,3)"
   ]
  },
  {
   "cell_type": "markdown",
   "id": "c5078153",
   "metadata": {},
   "source": [
    "b. Use function inside() from part a. to write an expression that tests whether\n",
    "the point (1,1) lies in both of the following rectangles: one with lower left\n",
    "corner (0.3, 0.5) and upper right corner (1.1, 0.7) and the other with lower\n",
    "left corner (0.5, 0.2) and upper right corner (1.1, 2)."
   ]
  },
  {
   "cell_type": "code",
   "execution_count": 27,
   "id": "b7cb213c",
   "metadata": {},
   "outputs": [
    {
     "data": {
      "text/plain": [
       "False"
      ]
     },
     "execution_count": 27,
     "metadata": {},
     "output_type": "execute_result"
    }
   ],
   "source": [
    "inside(1,1,0.3,0.5,1.1,0.7)"
   ]
  },
  {
   "cell_type": "code",
   "execution_count": 28,
   "id": "a7929572",
   "metadata": {},
   "outputs": [
    {
     "data": {
      "text/plain": [
       "True"
      ]
     },
     "execution_count": 28,
     "metadata": {},
     "output_type": "execute_result"
    }
   ],
   "source": [
    "inside(1,1,0.5,0.2,1.1,2)"
   ]
  },
  {
   "cell_type": "markdown",
   "id": "6f269214",
   "metadata": {},
   "source": [
    "## Question 6"
   ]
  },
  {
   "cell_type": "markdown",
   "id": "92915e8d",
   "metadata": {},
   "source": [
    "## 16. You can turn a word into pig-Latin using the following two rules (simplified):\n",
    "## • If the word starts with a consonant, move that letter to the end and append\n",
    "## 'ay'. For example, 'happy' becomes 'appyhay' and 'pencil' becomes 'encilpay'.\n",
    "## • If the word starts with a vowel, simply append 'way' to the end of the word.\n",
    "## For example, 'enter' becomes 'enterway' and 'other' becomes 'otherway' . For\n",
    "## our purposes, there are 5 vowels: a, e, i, o, u (so we count y as a consonant).\n",
    "## Write a function pig() that takes a word (i.e., a string) as input and returns its pigLatin form. Your function should still work if the input word contains upper case\n",
    "## characters. Your output should always be lower case however"
   ]
  },
  {
   "cell_type": "code",
   "execution_count": 48,
   "id": "ca58c877",
   "metadata": {},
   "outputs": [],
   "source": [
    "def pig(word):\n",
    "    letter = word.lower()\n",
    "    vowels=['a','e','i','o','u']\n",
    "    if letter[0] in vowels:\n",
    "        print('pig latin word is',letter+'way')\n",
    "    else :\n",
    "        print('pig latin word is',letter[1:]+letter[0]+'ay')"
   ]
  },
  {
   "cell_type": "code",
   "execution_count": 49,
   "id": "7400a921",
   "metadata": {},
   "outputs": [
    {
     "name": "stdout",
     "output_type": "stream",
     "text": [
      "pig latin word is appyhay\n"
     ]
    }
   ],
   "source": [
    "pig('happy')"
   ]
  },
  {
   "cell_type": "code",
   "execution_count": 50,
   "id": "e8b3f876",
   "metadata": {},
   "outputs": [
    {
     "name": "stdout",
     "output_type": "stream",
     "text": [
      "pig latin word is enterway\n"
     ]
    }
   ],
   "source": [
    "pig('enter')"
   ]
  },
  {
   "cell_type": "markdown",
   "id": "41f0aa02",
   "metadata": {},
   "source": [
    "## Question 7\n",
    "## File bloodtype1.txt records blood-types of patients (A, B, AB, O or OO) at a clinic.\n",
    "## Write a function bldcount() that reads the file with name name and reports (i.e.,\n",
    "## prints) how many patients there are in each bloodtype."
   ]
  },
  {
   "cell_type": "code",
   "execution_count": 51,
   "id": "8dc2d12e",
   "metadata": {},
   "outputs": [],
   "source": [
    "def bloodcount(name):\n",
    "    blood_count= {'A':0,'B':0,'AB':0,'O':0,'OO':0}\n",
    "    blood_list = name.split()\n",
    "    for bld in blood_list:\n",
    "        if bld in blood_count:\n",
    "            blood_count[bld]+=1\n",
    "    return blood_count"
   ]
  },
  {
   "cell_type": "code",
   "execution_count": 52,
   "id": "70aa4814",
   "metadata": {},
   "outputs": [
    {
     "data": {
      "text/plain": [
       "{'A': 15, 'B': 1, 'AB': 13, 'O': 15, 'OO': 0}"
      ]
     },
     "execution_count": 52,
     "metadata": {},
     "output_type": "execute_result"
    }
   ],
   "source": [
    "filename = open('C:\\\\Users\\\\anagh\\\\Downloads\\\\Data Programming\\\\bloodtype.txt','r')\n",
    "bloodcount(filename.readline())"
   ]
  },
  {
   "cell_type": "markdown",
   "id": "05114a83",
   "metadata": {},
   "source": [
    "## Question 8\n",
    "## Write a function curconv() that takes as input:"
   ]
  },
  {
   "cell_type": "markdown",
   "id": "688d751b",
   "metadata": {},
   "source": [
    "1. a currency represented using a string (e.g., 'JPY' for the Japanese Yen or\n",
    "'EUR' for the Euro)\n",
    "2. an amount\n",
    "and then converts and returns the amount in US dollars."
   ]
  },
  {
   "cell_type": "code",
   "execution_count": 55,
   "id": "83a7e9a1",
   "metadata": {},
   "outputs": [],
   "source": [
    "def curconv(cur,amt):\n",
    "    currency = {'AUD': 1.0345157,'CHF':1.0237414 ,'CNY':0.1550176,'DKK':0.1651442,'EUR':1.2296544 ,'GBP':1.5550989,'HKD':0.1270207, 'INR':0.0177643, 'JPY':0.01241401, 'MXN':0.0751848,'MYR':0.3145411, 'NOK':0.1677063,'NZD':0.8003591,'PHP':0.0233234,'SEK':0.148269,'SGD':0.788871,'THB':0.0313789}\n",
    "   \n",
    "    if cur in currency:\n",
    "        usd_conv = currency[cur]*amt\n",
    "        \n",
    "    return usd_conv"
   ]
  },
  {
   "cell_type": "code",
   "execution_count": 56,
   "id": "31e7cd66",
   "metadata": {},
   "outputs": [
    {
     "data": {
      "text/plain": [
       "122.96544"
      ]
     },
     "execution_count": 56,
     "metadata": {},
     "output_type": "execute_result"
    }
   ],
   "source": [
    "curconv('EUR', 100)"
   ]
  },
  {
   "cell_type": "code",
   "execution_count": 57,
   "id": "a961c0f0",
   "metadata": {},
   "outputs": [
    {
     "data": {
      "text/plain": [
       "1.241401"
      ]
     },
     "execution_count": 57,
     "metadata": {},
     "output_type": "execute_result"
    }
   ],
   "source": [
    " curconv('JPY', 100)"
   ]
  },
  {
   "cell_type": "markdown",
   "id": "848fdc4e",
   "metadata": {},
   "source": [
    "## Question 9\n",
    "## Each of the following will cause an exception (an error). Identify what type of\n",
    "## exception each will cause"
   ]
  },
  {
   "cell_type": "markdown",
   "id": "d9a66b5f",
   "metadata": {},
   "source": [
    "1.Trying to add incompatible variables, as in\n",
    "adding 6 + ‘a’"
   ]
  },
  {
   "cell_type": "markdown",
   "id": "867c6c7c",
   "metadata": {},
   "source": [
    "      Error=unsupported operand type(s) for +: 'int' and 'str'"
   ]
  },
  {
   "cell_type": "markdown",
   "id": "31da6063",
   "metadata": {},
   "source": [
    "2.Referring to the 12th item of a list that has only 10\n",
    "items"
   ]
  },
  {
   "cell_type": "markdown",
   "id": "1a39eb30",
   "metadata": {},
   "source": [
    "     Error = list index out of range"
   ]
  },
  {
   "cell_type": "markdown",
   "id": "b3116c30",
   "metadata": {},
   "source": [
    "3.Using a value that is out of range for a function’s\n",
    "input, such as calling math.sqrt(-1.0)"
   ]
  },
  {
   "cell_type": "markdown",
   "id": "683e0822",
   "metadata": {},
   "source": [
    "     Error = math domain error"
   ]
  },
  {
   "cell_type": "markdown",
   "id": "9129f476",
   "metadata": {},
   "source": [
    "4.Using an undeclared variable, such as print(x)\n",
    "when x has not been defined"
   ]
  },
  {
   "cell_type": "markdown",
   "id": "461debf0",
   "metadata": {},
   "source": [
    "     Error = name 'x' is not defined"
   ]
  },
  {
   "cell_type": "markdown",
   "id": "8222fe94",
   "metadata": {},
   "source": [
    "5.Trying to open a file that does not exist, such as\n",
    "mistyping the file name or looking in the wrong\n",
    "directory."
   ]
  },
  {
   "cell_type": "markdown",
   "id": "8cb2452d",
   "metadata": {},
   "source": [
    "     Error =No such file or directory:'python.txt'"
   ]
  },
  {
   "cell_type": "markdown",
   "id": "e43dffeb",
   "metadata": {},
   "source": [
    "## Question 10\n",
    "## Encryption is the process of hiding the meaning of a text by substituting letters in the\n",
    "## message with other letters, according to some system. If the process is successful, no\n",
    "## one but the intended recipient can understand the encrypted message. Cryptanalysis\n",
    "## refers to attempts to undo the encryption, even if some details of the encryption are\n",
    "## unknown (for example, if an encrypted message has been intercepted). The first step\n",
    "## of cryptanalysis is often to build up a table of letter frequencies in the encrypted text.\n",
    "## Assume that the string letters is already defined as\n",
    "## 'abcdefghijklmnopqrstuvwxyz'. Write a function called frequencies()\n",
    "## that takes a string as its only parameter, and returns a list of integers, showing the\n",
    "## number of times each character appears in the text. Your function may ignore any\n",
    "## characters that are not in letters."
   ]
  },
  {
   "cell_type": "code",
   "execution_count": 41,
   "id": "b8b7a269",
   "metadata": {},
   "outputs": [],
   "source": [
    "def frequencies(text):\n",
    "    lwrcase = text.lower()\n",
    "    letters ='abcdefghijklmnopqrstuvwxyz'\n",
    "    freq = [0]*26\n",
    "    for char in lwrcase:\n",
    "        if char in letters:\n",
    "            index=letters.index(char)\n",
    "            freq[index] +=1\n",
    "        else:\n",
    "            freq[index]=1\n",
    "    return freq"
   ]
  },
  {
   "cell_type": "code",
   "execution_count": 42,
   "id": "34bc3905",
   "metadata": {},
   "outputs": [
    {
     "data": {
      "text/plain": [
       "[1, 1, 1, 1, 5, 1, 1, 2, 1, 0, 1, 0, 1, 2, 4, 0, 1, 2, 0, 1, 1, 0, 1, 1, 0, 0]"
      ]
     },
     "execution_count": 42,
     "metadata": {},
     "output_type": "execute_result"
    }
   ],
   "source": [
    "frequencies('The quick red fox got bored and went home')"
   ]
  },
  {
   "cell_type": "code",
   "execution_count": 43,
   "id": "e096a7d4",
   "metadata": {},
   "outputs": [
    {
     "data": {
      "text/plain": [
       "[1, 0, 0, 0, 1, 0, 0, 0, 0, 0, 0, 1, 0, 0, 0, 2, 0, 0, 0, 0, 0, 0, 0, 0, 0, 0]"
      ]
     },
     "execution_count": 43,
     "metadata": {},
     "output_type": "execute_result"
    }
   ],
   "source": [
    "frequencies('apple')"
   ]
  }
 ],
 "metadata": {
  "kernelspec": {
   "display_name": "Python 3 (ipykernel)",
   "language": "python",
   "name": "python3"
  },
  "language_info": {
   "codemirror_mode": {
    "name": "ipython",
    "version": 3
   },
   "file_extension": ".py",
   "mimetype": "text/x-python",
   "name": "python",
   "nbconvert_exporter": "python",
   "pygments_lexer": "ipython3",
   "version": "3.10.9"
  }
 },
 "nbformat": 4,
 "nbformat_minor": 5
}
